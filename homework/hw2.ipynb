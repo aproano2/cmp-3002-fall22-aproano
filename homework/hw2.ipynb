{
 "cells": [
  {
   "cell_type": "markdown",
   "id": "012eda26",
   "metadata": {},
   "source": [
    "# Homework 2"
   ]
  },
  {
   "cell_type": "markdown",
   "id": "6d677bee",
   "metadata": {},
   "source": [
    "### 1. Implement the class `Stacks` and all its methods using singly linked lists. Analyze the runtime and memory complexity, and compare with what we studied in class"
   ]
  },
  {
   "cell_type": "code",
   "execution_count": 2,
   "id": "d5962d96",
   "metadata": {},
   "outputs": [],
   "source": [
    "class Node:\n",
    "    \"\"\"\n",
    "    Implementation of a node\n",
    "    \"\"\"\n",
    "    def __init__(self, val=None):\n",
    "        self.val = val\n",
    "        self.next_node = None\n",
    "    \n",
    "    def set_next_node(self, next_node):\n",
    "        self.next_node = next_node\n",
    "        \n",
    "class Singly_linked_list:\n",
    "    \"\"\"\n",
    "    Implementation of a singly linked list\n",
    "    \"\"\"\n",
    "    def __init__(self, head_node=None):\n",
    "        self.head_node = head_node\n",
    "        \n",
    "    def list_traversed(self):\n",
    "        node = self.head_node\n",
    "        while node:\n",
    "            print(node.val)\n",
    "            node = node.next_node\n",
    "            \n",
    "    def insert_head(self, new_node):\n",
    "        # insert to the head\n",
    "        # A -> B -> null\n",
    "        # R -> A -> B -> null \n",
    "        new_node.set_next_node(self.head_node)\n",
    "        self.head_node = new_node\n",
    "        \n",
    "    def delete_head(self):\n",
    "        # delete the         #if self.l == 0:\n",
    "        #    return True\n",
    "        #return Falsehead \n",
    "        node = self.head_node\n",
    "        if self.head_node:\n",
    "            self.head_node = self.head_node.next_node        \n",
    "        \n"
   ]
  },
  {
   "cell_type": "code",
   "execution_count": 3,
   "id": "76569149",
   "metadata": {},
   "outputs": [],
   "source": [
    "class Stack(object):\n",
    "    \"\"\"\n",
    "    Implementation of the stack data structure\n",
    "    \"\"\"\n",
    "\n",
    "    def __init__(self, n):\n",
    "        self.l = 0\n",
    "        self.n = n\n",
    "        self.stack = Singly_linked_list()      \n",
    "    \n",
    "    def push(self, item):\n",
    "        \"\"\"\n",
    "        Add new item to the stack\n",
    "        \"\"\"\n",
    "        node = Node(item)\n",
    "        if self.l == self.n:\n",
    "            raise ValueError(\"no more capacity\")\n",
    "        self.stack.insert_head(node)\n",
    "        self.l += 1\n",
    "    \n",
    "    def pop(self):\n",
    "        \"\"\"\n",
    "        Remove an element from the stack\n",
    "        \"\"\"\n",
    "        if not self.l:\n",
    "            raise('stack is empty')\n",
    "        c = self.stack.head_node.val\n",
    "        self.stack.delete_head()\n",
    "        self.l -= 1\n",
    "        return c\n",
    "    \n",
    "    def top(self):\n",
    "        \"\"\"\n",
    "        Show the top element of the stack\n",
    "        \"\"\"\n",
    "        return self.stack.head_node.val\n",
    "    \n",
    "    def full(self):\n",
    "        \"\"\"\n",
    "        Is the stack full?\n",
    "        \"\"\"\n",
    "        return self.l == self.n\n",
    "\n",
    "    def empty(self):\n",
    "        \"\"\"\n",
    "        Is the stack empty?\n",
    "        \"\"\"\n",
    "        return self.l == 0\n",
    "\n",
    "    def size(self):\n",
    "        \"\"\"\n",
    "        Return size of the stack\n",
    "        \"\"\"\n",
    "        return self.l"
   ]
  },
  {
   "cell_type": "code",
   "execution_count": 4,
   "id": "6b9ef729",
   "metadata": {},
   "outputs": [],
   "source": [
    "S = Stack(10)\n",
    "S.push(1)\n",
    "S.push(2)\n",
    "S.push(4)\n",
    "S.push(-1)"
   ]
  },
  {
   "cell_type": "code",
   "execution_count": 5,
   "id": "b718c17d",
   "metadata": {},
   "outputs": [
    {
     "data": {
      "text/plain": [
       "4"
      ]
     },
     "execution_count": 5,
     "metadata": {},
     "output_type": "execute_result"
    }
   ],
   "source": [
    "S.size()"
   ]
  },
  {
   "cell_type": "code",
   "execution_count": 6,
   "id": "097bc8a0",
   "metadata": {},
   "outputs": [
    {
     "data": {
      "text/plain": [
       "-1"
      ]
     },
     "execution_count": 6,
     "metadata": {},
     "output_type": "execute_result"
    }
   ],
   "source": [
    "S.pop()"
   ]
  },
  {
   "cell_type": "code",
   "execution_count": 7,
   "id": "4c6cda69",
   "metadata": {},
   "outputs": [
    {
     "data": {
      "text/plain": [
       "4"
      ]
     },
     "execution_count": 7,
     "metadata": {},
     "output_type": "execute_result"
    }
   ],
   "source": [
    "S.top()"
   ]
  },
  {
   "cell_type": "code",
   "execution_count": 8,
   "id": "814afa47",
   "metadata": {},
   "outputs": [
    {
     "data": {
      "text/plain": [
       "3"
      ]
     },
     "execution_count": 8,
     "metadata": {},
     "output_type": "execute_result"
    }
   ],
   "source": [
    "S.size()"
   ]
  },
  {
   "cell_type": "markdown",
   "id": "8c145447",
   "metadata": {},
   "source": [
    "### Complexity:\n",
    "\n",
    "The complexities are the same as the ones in the original implementation of the class Stack. In terms of memory, using linked lists increases the memory to twice the one required using arrays because linked list nodes are objects that allocate memory for the value and the next pointer. However, the memory complexity is the same O(n)"
   ]
  },
  {
   "cell_type": "markdown",
   "id": "bc2655ce",
   "metadata": {},
   "source": [
    "### 2. Write a method part of the linked list class that will reverse the linked list. Your implementation should visit each node in the list only one time, and should use $O(1)$ of extra memory.\n",
    "\n",
    "\n",
    "> For example, if the list is:\n",
    "\n",
    "> A -> B -> C -> D -> null\n",
    "\n",
    "> The method must return:\n",
    "\n",
    "> D -> C -> B -> A -> null\n",
    "\n"
   ]
  },
  {
   "cell_type": "code",
   "execution_count": 44,
   "id": "fa1443df",
   "metadata": {},
   "outputs": [],
   "source": [
    "class Singly_linked_list(Singly_linked_list):\n",
    "    def reverse(self):\n",
    "        node = self.head_node\n",
    "        prev = None\n",
    "        while node:\n",
    "            next_node = node.next_node\n",
    "            node.next_node = prev\n",
    "            prev = node\n",
    "            node = next_node\n",
    "        self.head_node = prev\n",
    "            "
   ]
  },
  {
   "cell_type": "code",
   "execution_count": 63,
   "id": "aa9b91b0",
   "metadata": {},
   "outputs": [
    {
     "name": "stdout",
     "output_type": "stream",
     "text": [
      "Jan\n",
      "Feb\n",
      "March\n"
     ]
    }
   ],
   "source": [
    "m1 = Node(\"Jan\")\n",
    "m2 = Node(\"Feb\")\n",
    "m3 = Node(\"March\")\n",
    "\n",
    "m1.set_next_node(m2)\n",
    "m2.set_next_node(m3)\n",
    "\n",
    "list1 = Singly_linked_list(m1)\n",
    "\n",
    "list1.list_traversed()"
   ]
  },
  {
   "cell_type": "code",
   "execution_count": 64,
   "id": "6f73dcc0",
   "metadata": {},
   "outputs": [
    {
     "name": "stdout",
     "output_type": "stream",
     "text": [
      "March\n",
      "Feb\n",
      "Jan\n"
     ]
    }
   ],
   "source": [
    "list1.reverse()\n",
    "list1.list_traversed()"
   ]
  },
  {
   "cell_type": "markdown",
   "id": "c9ebe95e",
   "metadata": {},
   "source": [
    "### 3. Implement the class Queue using stacks. \n",
    "\n",
    "> a. Analyze the runtime and memory complexity, and compare with what we implemented in class.\n",
    "\n",
    "> b. Implement a few test cases that would allow you to measure the difference in runtime of the `dequeue` method. (Hint: what is the worst case, so that dequeue of the stack implementation is greater than the implementation we did in class?)\n"
   ]
  },
  {
   "cell_type": "code",
   "execution_count": 138,
   "id": "3c8dde28",
   "metadata": {},
   "outputs": [],
   "source": [
    "class Queue_st(object):\n",
    "    \"\"\"\n",
    "    Implementation of the queue data structure\n",
    "    \"\"\"\n",
    "\n",
    "    def __init__(self, n):\n",
    "        self.l = 0\n",
    "        self.n = n\n",
    "        self.queue_in = Stack(self.n)\n",
    "        self.queue_out = Stack(self.n)\n",
    "    \n",
    "    \n",
    "    def move_queue(self):\n",
    "        \"\"\"\n",
    "        Move elements from in queue to out queue\n",
    "        \"\"\"\n",
    "        while not self.queue_in.empty():\n",
    "            self.queue_out.push(self.queue_in.pop())\n",
    "    \n",
    "    def enqueue(self, item):\n",
    "        \"\"\"\n",
    "        Add new item to the queue\n",
    "        \"\"\"\n",
    "        if self.l == self.n:\n",
    "            raise ValueError(\"no more capacity\")\n",
    "        self.queue_in.push(item)\n",
    "        self.l += 1\n",
    "        \n",
    "    def dequeue(self):\n",
    "        \"\"\"\n",
    "        Remove an element from the queue\n",
    "        \"\"\"\n",
    "        if self.empty():\n",
    "            raise ValueError(\"queue is empty\")\n",
    "        else:\n",
    "            if self.queue_out.empty():\n",
    "                self.move_queue()\n",
    "                \n",
    "            self.l -= 1\n",
    "            return self.queue_out.pop()\n",
    "            \n",
    "    def first(self):\n",
    "        \"\"\"\n",
    "        Show the first element of the queue\n",
    "        \"\"\"\n",
    "        if self.empty():\n",
    "            raise ValueError(\"queue is empty\")\n",
    "        else:\n",
    "            if self.queue_out.empty():\n",
    "                self.move_queue()\n",
    "            return self.queue_out.top()\n",
    "    \n",
    "    def full(self):\n",
    "        \"\"\"\n",
    "        Is the queue full?\n",
    "        \"\"\"\n",
    "        return self.l == self.n      \n",
    "\n",
    "    def empty(self):\n",
    "        \"\"\"\n",
    "        Is the queue empty?\n",
    "        \"\"\"\n",
    "        return self.l == 0\n",
    "\n",
    "    def size(self):\n",
    "        \"\"\"\n",
    "        Return size of the queue\n",
    "        \"\"\"\n",
    "        return self.l\n"
   ]
  },
  {
   "cell_type": "code",
   "execution_count": 139,
   "id": "d5675b6d",
   "metadata": {},
   "outputs": [],
   "source": [
    "q = Queue_st(10)\n",
    "q.enqueue(1)\n",
    "q.enqueue(2)\n",
    "q.enqueue(3)"
   ]
  },
  {
   "cell_type": "code",
   "execution_count": 140,
   "id": "a89fcd4d",
   "metadata": {},
   "outputs": [
    {
     "data": {
      "text/plain": [
       "1"
      ]
     },
     "execution_count": 140,
     "metadata": {},
     "output_type": "execute_result"
    }
   ],
   "source": [
    "q.dequeue()"
   ]
  },
  {
   "cell_type": "code",
   "execution_count": 141,
   "id": "8b0698c8",
   "metadata": {},
   "outputs": [
    {
     "data": {
      "text/plain": [
       "2"
      ]
     },
     "execution_count": 141,
     "metadata": {},
     "output_type": "execute_result"
    }
   ],
   "source": [
    "q.first()"
   ]
  },
  {
   "cell_type": "code",
   "execution_count": 142,
   "id": "ae5ac8bc",
   "metadata": {},
   "outputs": [
    {
     "data": {
      "text/plain": [
       "2"
      ]
     },
     "execution_count": 142,
     "metadata": {},
     "output_type": "execute_result"
    }
   ],
   "source": [
    "q.size()"
   ]
  },
  {
   "cell_type": "code",
   "execution_count": 143,
   "id": "b99fce8a",
   "metadata": {},
   "outputs": [],
   "source": [
    "q.enqueue(5)\n",
    "q.enqueue(6)"
   ]
  },
  {
   "cell_type": "code",
   "execution_count": 144,
   "id": "ea33954b",
   "metadata": {},
   "outputs": [
    {
     "data": {
      "text/plain": [
       "2"
      ]
     },
     "execution_count": 144,
     "metadata": {},
     "output_type": "execute_result"
    }
   ],
   "source": [
    "q.dequeue()"
   ]
  },
  {
   "cell_type": "code",
   "execution_count": 145,
   "id": "4ffd34de",
   "metadata": {},
   "outputs": [
    {
     "data": {
      "text/plain": [
       "3"
      ]
     },
     "execution_count": 145,
     "metadata": {},
     "output_type": "execute_result"
    }
   ],
   "source": [
    "q.dequeue()"
   ]
  },
  {
   "cell_type": "code",
   "execution_count": 146,
   "id": "35eb6598",
   "metadata": {},
   "outputs": [
    {
     "data": {
      "text/plain": [
       "5"
      ]
     },
     "execution_count": 146,
     "metadata": {},
     "output_type": "execute_result"
    }
   ],
   "source": [
    "q.first()"
   ]
  },
  {
   "cell_type": "code",
   "execution_count": 147,
   "id": "14dcc50b",
   "metadata": {},
   "outputs": [
    {
     "data": {
      "text/plain": [
       "5"
      ]
     },
     "execution_count": 147,
     "metadata": {},
     "output_type": "execute_result"
    }
   ],
   "source": [
    "q.dequeue()"
   ]
  },
  {
   "cell_type": "code",
   "execution_count": 148,
   "id": "dd2bf193",
   "metadata": {},
   "outputs": [
    {
     "data": {
      "text/plain": [
       "6"
      ]
     },
     "execution_count": 148,
     "metadata": {},
     "output_type": "execute_result"
    }
   ],
   "source": [
    "q.dequeue()"
   ]
  },
  {
   "cell_type": "code",
   "execution_count": 150,
   "id": "dbcd0100",
   "metadata": {},
   "outputs": [
    {
     "data": {
      "text/plain": [
       "True"
      ]
     },
     "execution_count": 150,
     "metadata": {},
     "output_type": "execute_result"
    }
   ],
   "source": [
    "q.empty()"
   ]
  },
  {
   "cell_type": "markdown",
   "id": "a1f6dcec",
   "metadata": {},
   "source": [
    "### Complexity:\n",
    "\n",
    "**Runtime:** All the functions except for the dequeue function have the same complexity as the ones implemented in class. For the case  of dequeue, the complexity is constant most of the time, except when the stack used to output values is empty, in that case elements from the input stack must be moved to the output stack. In general this implementation is more efficient, since the one in class, we had to move elements everytime a element from the queue is removed. In this implementation, we only move them when the output stack is empty.\n",
    "\n",
    "**Memory:** We need twice the memory since we are using two stacks to emulate one queue.\n",
    "\n"
   ]
  },
  {
   "cell_type": "markdown",
   "id": "ae8e610c",
   "metadata": {},
   "source": [
    "### Test cases:\n",
    "\n",
    "The worst case will only happen we move elements every time we input a value. And that happens, when we remove the element immediately after inserting it. \n"
   ]
  },
  {
   "cell_type": "code",
   "execution_count": 152,
   "id": "77e3ea82",
   "metadata": {},
   "outputs": [],
   "source": [
    "class Queue(object):\n",
    "    \"\"\"\n",
    "    Implementation of the queue data structure\n",
    "    \"\"\"\n",
    "\n",
    "    def __init__(self, n):\n",
    "        self.l = 0\n",
    "        self.n = n\n",
    "        self.queue = self._create_queue(self.n)        \n",
    "    \n",
    "    def _create_queue(self, n):\n",
    "        \"\"\"\n",
    "        Creates a new stack of capacity n\n",
    "        \"\"\"\n",
    "        return (n * ctypes.py_object)()\n",
    "    def enqueue(self, item):\n",
    "        \"\"\"\n",
    "        Add new item to the queue\n",
    "        \"\"\"\n",
    "        if self.l == self.n:\n",
    "            raise ValueError(\"no more capacity\")\n",
    "        self.queue[self.l] = item\n",
    "        self.l += 1\n",
    "    \n",
    "    def dequeue(self):\n",
    "        \"\"\"\n",
    "        Remove an element from the queue\n",
    "        \"\"\"\n",
    "        c = self.queue[0]\n",
    "        for i in range(1,self.l):\n",
    "            self.queue[i-1] = self.queue[i]\n",
    "        self.queue[self.l - 1] = ctypes.py_object\n",
    "        self.l -= 1\n",
    "        return c"
   ]
  },
  {
   "cell_type": "code",
   "execution_count": 157,
   "id": "f814a0bd",
   "metadata": {},
   "outputs": [
    {
     "name": "stdout",
     "output_type": "stream",
     "text": [
      "Total time stack: 62743.425369262695\n",
      "Total time queue: 13261.079788208008\n"
     ]
    }
   ],
   "source": [
    "q1 = Queue_st(10)\n",
    "t1 = time()\n",
    "for i in range(10000):\n",
    "    q1.enqueue(i)\n",
    "    a = q1.dequeue()\n",
    "total1 = (time() - t1)*10**6\n",
    "print(\"Total time stack:\", str(total1))\n",
    "\n",
    "q2 = Queue(10)\n",
    "t1 = time()\n",
    "for i in range(10000):\n",
    "    q2.enqueue(i)\n",
    "    a = q2.dequeue()\n",
    "total2 = (time() - t1)*10**6\n",
    "print(\"Total time queue:\", str(total2))\n",
    "\n"
   ]
  },
  {
   "cell_type": "markdown",
   "id": "400caec9",
   "metadata": {},
   "source": [
    "We can see that the complexity is worst, and that's because this case is the worst for the stack implementation, it requires a transfer from the input to output stack each time. On the other hand, this is the best case for the queue class because there is no movement of elements after each dequeue."
   ]
  },
  {
   "cell_type": "code",
   "execution_count": 159,
   "id": "932337b2",
   "metadata": {},
   "outputs": [
    {
     "name": "stdout",
     "output_type": "stream",
     "text": [
      "Total time stack: 53710.9375\n",
      "Total time queue: 15534422.874450684\n"
     ]
    }
   ],
   "source": [
    "q1 = Queue_st(10000)\n",
    "t1 = time()\n",
    "for i in range(10000):\n",
    "    q1.enqueue(i)\n",
    "for i in range(10000):    \n",
    "    a = q1.dequeue()\n",
    "total1 = (time() - t1)*10**6\n",
    "print(\"Total time stack:\", str(total1))\n",
    "\n",
    "q2 = Queue(10000)\n",
    "t1 = time()\n",
    "for i in range(10000):\n",
    "    q2.enqueue(i)\n",
    "for i in range(10000):\n",
    "    a = q2.dequeue()\n",
    "total2 = (time() - t1)*10**6\n",
    "print(\"Total time queue:\", str(total2))"
   ]
  },
  {
   "cell_type": "markdown",
   "id": "a7d00105",
   "metadata": {},
   "source": [
    "Now, in this case we populate the queue with 10,000 elements and after that we start removing one by one. This is the opposite case, the best case scenario for the stack-based queue and the worst for the one implemented in class. The former outperform the first because it takes mostly constant time to do the dequeue, we move elements from the input stack to the output one only one time. \n",
    "\n",
    "On the other hand, the queue implemented in class must move elements each time there is a dequeue. The first dequeue 9,999 elements are moved, the second 9,998, and so on. If we add up the operations we can see that the complexity:\n",
    "\n",
    "$\\sum_{i=1}^{n-1} i = \\frac{(n-1)n}{2} = O(n^2) $"
   ]
  },
  {
   "cell_type": "markdown",
   "id": "af4d174f",
   "metadata": {},
   "source": [
    "### 4. Complete the PriorityQueue class, so that when we call `dequeue`, the element with the highest priority will be returned. Analyze the complexity of runtime and memory of the `enqueue` and `dequeue` methods."
   ]
  },
  {
   "cell_type": "markdown",
   "id": "c200e2fd",
   "metadata": {},
   "source": [
    "#### Hint: use insertion sort , or find the minimum for each dequeue\n",
    "\n",
    "#unsorted\n",
    "\n",
    "Q = [(9,2), (1,5), (8,4)]\n",
    "\n",
    "#sorted - O(n^2)\n",
    "\n",
    "Q = [(1,5), (8,4), (9,2)]\n",
    "\n",
    "#insert((2,3)) - O(n^2)\n",
    "\n",
    "Q = [(1,5), (2,3), (8,4), (9,2)]\n",
    "\n",
    "\n"
   ]
  },
  {
   "cell_type": "code",
   "execution_count": 16,
   "id": "48a2b880",
   "metadata": {},
   "outputs": [
    {
     "data": {
      "text/plain": [
       "[(1, 5), (8, 4), (9, 2)]"
      ]
     },
     "execution_count": 16,
     "metadata": {},
     "output_type": "execute_result"
    }
   ],
   "source": [
    "Q = [(9,2), (1,5), (8,4)]\n",
    "\n",
    "insertion_sort(Q)\n"
   ]
  },
  {
   "cell_type": "code",
   "execution_count": null,
   "id": "2046e544",
   "metadata": {},
   "outputs": [],
   "source": []
  },
  {
   "cell_type": "code",
   "execution_count": 43,
   "id": "512f245b",
   "metadata": {},
   "outputs": [],
   "source": [
    "import ctypes\n",
    "\n",
    "\n",
    "class PriorityQueue(object):\n",
    "    \"\"\"\n",
    "    Implementation of the queue data structure\n",
    "    \"\"\"\n",
    "\n",
    "    def __init__(self, n):\n",
    "        self.l = 0\n",
    "        self.n = n\n",
    "        self.queue = self._create_queue(self.n)        \n",
    "    \n",
    "    def _create_queue(self, n):\n",
    "        \"\"\"\n",
    "        Creates a new stack of capacity n\n",
    "        \"\"\"\n",
    "        return (n * ctypes.py_object)()\n",
    "    \n",
    "    def enqueue(self, item):\n",
    "        \"\"\"\n",
    "        Add new item to the queue\n",
    "        \"\"\"\n",
    "        if self.l == self.n:\n",
    "            raise ValueError(\"no more capacity\")\n",
    "        \n",
    "        self.queue[self.l] = item\n",
    "        self.l += 1\n",
    "        j = self.l - 2\n",
    "        while (j >= 0) and (item[0] > self.queue[j][0]):\n",
    "            self.queue[j+1] = self.queue[j]\n",
    "            j -= 1\n",
    "        self.queue[j+1] = item    \n",
    "        \n",
    "    def dequeue(self):\n",
    "        \"\"\"\n",
    "        Remove item with lowest key\n",
    "        \"\"\"\n",
    "        x = self.queue[self.l-1]\n",
    "        self.l -= 1\n",
    "        return x[1]\n",
    "    "
   ]
  },
  {
   "cell_type": "code",
   "execution_count": 39,
   "id": "1690b265",
   "metadata": {},
   "outputs": [
    {
     "name": "stdout",
     "output_type": "stream",
     "text": [
      "(8, 4)\n",
      "(10, 3)\n",
      "(10, 3)\n",
      "(10, 3)\n",
      "(2, 7)\n"
     ]
    }
   ],
   "source": [
    "q = PriorityQueue(10)\n",
    "q.enqueue((9,2))\n",
    "q.enqueue((1,5))\n",
    "q.enqueue((8,4))\n",
    "q.enqueue((10,3))\n",
    "q.enqueue((2,7))\n",
    "q.enqueue((0,1))"
   ]
  },
  {
   "cell_type": "code",
   "execution_count": 40,
   "id": "dec6aec4",
   "metadata": {},
   "outputs": [
    {
     "name": "stdout",
     "output_type": "stream",
     "text": [
      "(10, 3)\n",
      "(9, 2)\n",
      "(8, 4)\n",
      "(2, 7)\n",
      "(1, 5)\n",
      "(0, 1)\n"
     ]
    }
   ],
   "source": [
    "for i in range(q.l):\n",
    "    print(q.queue[i])"
   ]
  },
  {
   "cell_type": "code",
   "execution_count": 41,
   "id": "04f2c0f9",
   "metadata": {},
   "outputs": [
    {
     "data": {
      "text/plain": [
       "1"
      ]
     },
     "execution_count": 41,
     "metadata": {},
     "output_type": "execute_result"
    }
   ],
   "source": [
    "q.dequeue()"
   ]
  },
  {
   "cell_type": "code",
   "execution_count": 42,
   "id": "53e25892",
   "metadata": {},
   "outputs": [
    {
     "name": "stdout",
     "output_type": "stream",
     "text": [
      "(10, 3)\n",
      "(9, 2)\n",
      "(8, 4)\n",
      "(2, 7)\n",
      "(1, 5)\n"
     ]
    }
   ],
   "source": [
    "for i in range(q.l):\n",
    "    print(q.queue[i])"
   ]
  },
  {
   "cell_type": "markdown",
   "id": "d5a4843e",
   "metadata": {},
   "source": [
    "### Complexity:\n",
    "\n",
    "enqueue: takes O(n) since the modified version of insertion sort needs to go through the whole queue  (in the worst case) to place the new item in the right place based in priority\n",
    "\n",
    "dequeue: takes O(1) since the item in the (self.l - 1) location in the queue is always removed. "
   ]
  },
  {
   "cell_type": "markdown",
   "id": "aff830fc",
   "metadata": {},
   "source": [
    "### 5. A given linked-list (singly or doubly) represents an integer number. For example, 345 is represented by the singly-linked list 3 -> 4 ->5. Write a Python program that does the following:\n",
    "\n",
    "1. Receives three integers A, B and C as inputs. Assume that the three number have the same number of digits.\n",
    "\n",
    "2. Transform the numbers to their corresponding linked lists\n",
    "\n",
    "3. Implement the sum of the three numbers. The result A + B + C must be stored in a linked list. \n",
    "\n",
    "4. Print the result by traversing the list. \n",
    "\n",
    "5. Run your program for numbers with 1 to 100 digits, and capture the runtime. Use these number to estimate the complexity of the runtime.\n",
    "    - Hint: write a small function that uses `randint()` to generate a number of a given number of digits \n",
    "6. Analitically estimate the runtime complexity and compare with the one obtained in (5)."
   ]
  },
  {
   "cell_type": "code",
   "execution_count": null,
   "id": "f965f952",
   "metadata": {},
   "outputs": [],
   "source": [
    "3->4->5\n",
    "1->2->3\n",
    "5->6->7\n",
    "---------\n",
    "1->0->3->5"
   ]
  },
  {
   "cell_type": "code",
   "execution_count": 4,
   "id": "ba631eb5",
   "metadata": {},
   "outputs": [
    {
     "data": {
      "text/plain": [
       "50"
      ]
     },
     "execution_count": 4,
     "metadata": {},
     "output_type": "execute_result"
    }
   ],
   "source": [
    "import random\n",
    "len(str(random.randint(10**49, 10**50)))"
   ]
  },
  {
   "cell_type": "code",
   "execution_count": 116,
   "id": "22409ff7",
   "metadata": {},
   "outputs": [],
   "source": [
    "from time import time\n",
    "  \n",
    "def timer_func(func):\n",
    "    # This function shows the execution time of \n",
    "    # the function object passed\n",
    "    def wrap_func(*args, **kwargs):\n",
    "        t1 = time()\n",
    "        result = func(*args, **kwargs)\n",
    "        total = (time() - t1)*10**6\n",
    "        return total, result\n",
    "    return wrap_func\n",
    "\n",
    "@timer_func\n",
    "def addThreeNumbers(l1, l2, l3):\n",
    "\n",
    "    carry = 0\n",
    "    total = 0\n",
    "    prev = None\n",
    "    res = Singly_linked_list()\n",
    "    \n",
    "    # We first need to reverse the numbers\n",
    "    \n",
    "    l1.reverse()\n",
    "    l2.reverse()\n",
    "    l3.reverse()\n",
    "    \n",
    "    n1 = l1.head_node\n",
    "    n2 = l2.head_node\n",
    "    n3 = l3.head_node\n",
    "\n",
    "    while n1:\n",
    "\n",
    "        total = n1.val + n2.val + n3.val\n",
    "        n1, n2, n3 = n1.next_node, n2.next_node, n3.next_node\n",
    "        \n",
    "        total += carry\n",
    "        if total >= 20:\n",
    "            carry = 2\n",
    "            total -= 20\n",
    "        elif total >= 10:\n",
    "            carry = 1\n",
    "            total -= 10\n",
    "        else:\n",
    "            carry = 0\n",
    "        \n",
    "        res.insert_head(Node(total))\n",
    "    \n",
    "    if carry > 0:\n",
    "        res.insert_head(Node(carry))\n",
    "        \n",
    "    l1.reverse()\n",
    "    l2.reverse()\n",
    "    l3.reverse()\n",
    "\n",
    "    return res"
   ]
  },
  {
   "cell_type": "code",
   "execution_count": 89,
   "id": "738f4e52",
   "metadata": {},
   "outputs": [],
   "source": [
    "def int_to_list(n):\n",
    "    \n",
    "    res = Singly_linked_list()\n",
    "    while n > 0:\n",
    "        n1 = n % 10\n",
    "        node = Node(n1)\n",
    "        res.insert_head(node)\n",
    "        n = n//10\n",
    "    return res"
   ]
  },
  {
   "cell_type": "code",
   "execution_count": 119,
   "id": "0d726972",
   "metadata": {},
   "outputs": [],
   "source": [
    "l1 = int_to_list(345)\n",
    "l2 = int_to_list(123)\n",
    "l3 = int_to_list(567)"
   ]
  },
  {
   "cell_type": "code",
   "execution_count": 120,
   "id": "d4d73ec3",
   "metadata": {},
   "outputs": [
    {
     "name": "stdout",
     "output_type": "stream",
     "text": [
      "1\n",
      "0\n",
      "3\n",
      "5\n"
     ]
    }
   ],
   "source": [
    "us, total = addThreeNumbers(l1, l2, l3)\n",
    "total.list_traversed()"
   ]
  },
  {
   "cell_type": "code",
   "execution_count": 121,
   "id": "254602d8",
   "metadata": {},
   "outputs": [
    {
     "name": "stdout",
     "output_type": "stream",
     "text": [
      "76.2939453125\n"
     ]
    }
   ],
   "source": [
    "print(us)"
   ]
  },
  {
   "cell_type": "code",
   "execution_count": 122,
   "id": "ff8c5207",
   "metadata": {},
   "outputs": [],
   "source": [
    "import random\n",
    "def int_len(n):\n",
    "    return random.randint(10**(n-1), 10**n)\n"
   ]
  },
  {
   "cell_type": "code",
   "execution_count": 131,
   "id": "d7e1965a",
   "metadata": {},
   "outputs": [],
   "source": [
    "total_time = list()\n",
    "for i in range(1,101):\n",
    "    \n",
    "    l1 = int_to_list(int_len(i))\n",
    "    l2 = int_to_list(int_len(i))\n",
    "    l3 = int_to_list(int_len(i))\n",
    "    \n",
    "    us, _ = addThreeNumbers(l1,l2,l3)\n",
    "    total_time.append(us)"
   ]
  },
  {
   "cell_type": "code",
   "execution_count": 136,
   "id": "2fef0e18",
   "metadata": {},
   "outputs": [],
   "source": [
    "import pandas as pd\n",
    "import matplotlib.pyplot as plt\n",
    "\n",
    "df = pd.DataFrame()\n",
    "df['time'] = total_time"
   ]
  },
  {
   "cell_type": "code",
   "execution_count": 137,
   "id": "4f579f0e",
   "metadata": {},
   "outputs": [
    {
     "data": {
      "image/png": "[encoded data removed]",
      "text/plain": [
       "<Figure size 432x288 with 1 Axes>"
      ]
     },
     "metadata": {
      "needs_background": "light"
     },
     "output_type": "display_data"
    }
   ],
   "source": [
    "df.plot()\n",
    "plt.grid()"
   ]
  },
  {
   "cell_type": "markdown",
   "id": "05cd80f0",
   "metadata": {},
   "source": [
    "### Complexity\n",
    "\n",
    "From the plot we can see that the complexity follows a linear growth\n",
    "\n",
    "Also, to transform an integer into a list, we need to do $n$ operations, 1 for each digit we add to the list. Additionally, when we do the sum, we visit each digit once for each number to add them up. Adding the complexity of applying reverse, everything is kept in the $O(n)$ complexity."
   ]
  }
 ],
 "metadata": {
  "kernelspec": {
   "display_name": "Python 3",
   "language": "python",
   "name": "python3"
  },
  "language_info": {
   "codemirror_mode": {
    "name": "ipython",
    "version": 3
   },
   "file_extension": ".py",
   "mimetype": "text/x-python",
   "name": "python",
   "nbconvert_exporter": "python",
   "pygments_lexer": "ipython3",
   "version": "3.8.8"
  }
 },
 "nbformat": 4,
 "nbformat_minor": 5
}
