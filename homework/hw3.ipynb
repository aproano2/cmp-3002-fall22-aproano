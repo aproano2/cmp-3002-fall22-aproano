{
 "cells": [
  {
   "cell_type": "markdown",
   "id": "012eda26",
   "metadata": {},
   "source": [
    "# Homework 3"
   ]
  },
  {
   "cell_type": "markdown",
   "id": "d1c71dde",
   "metadata": {},
   "source": [
    "### 1. Merge two sorted lists\n",
    "\n",
    "1. Assume you have two sorted linked lists. Use **recursion** to merge these lists and return a new sorted list. \n",
    "\n",
    "For example:\n",
    "\n",
    "- Input: \n",
    "\n",
    "> L1 = 1 -> 3 -> 5 -> 7 -> null\n",
    "\n",
    "> L2 = 2 -> 4 -> 6 -> null\n",
    "\n",
    "- Output:\n",
    "\n",
    "> L4 = 1 -> 2 -> 3-> 4 -> 5 -> 6 -> 7 -> null\n",
    "\n",
    "2. Calculate complexity"
   ]
  },
  {
   "cell_type": "markdown",
   "id": "6ffd58f4",
   "metadata": {},
   "source": [
    "### 2. Implement quick sort\n",
    "\n",
    "1. Use the divide and conquer technique to implement the quick sort algorithm studied in class. \n",
    "2. Use a couple of parragraphs to explain the steps of divide and conquer:\n",
    "    - how/where do you divide?\n",
    "    - where/what do you conquer?\n",
    "    - how/what do you combine?\n",
    "3. Analyze complexity"
   ]
  },
  {
   "cell_type": "markdown",
   "id": "3503cba8",
   "metadata": {},
   "source": [
    "### 3. Compare quick sort and merge sort\n",
    "\n",
    "1. Generate 1000 random permutations of arrays of integers between 1 to 10000.\n",
    "2. Execute merge sort and quick sort for each of the permutations\n",
    "3. Calculate the execution time of these runs, and compare them using the statistics of the measured executed time.\n",
    "4. Explain the differences. Which algorithm is better? When would you use each?"
   ]
  },
  {
   "cell_type": "markdown",
   "id": "e43b0016",
   "metadata": {},
   "source": [
    "### 4. Implement factorials with recursion\n",
    "\n",
    "Recall that a factorial number is defined as:\n",
    "\n",
    "$k! = k \\times (k-1) \\times (k-2) \\times ... \\times 2 \\times 1$\n",
    "\n",
    "For example: $3! = 3 \\times 2 \\times 1 = 6$\n",
    "\n",
    "1. Use recursion to implement the factorial\n",
    "2. Run your code for numbers between 1 and 10000\n",
    "3. Calculate the execution time and plot it. \n",
    "4. What's the complexity?\n",
    "5. Implement memoization to improve the performance of your code\n",
    "6. Measure the runtime when you calculate the factorial for numbers between 1 and 10000.\n",
    "7. What's the complexity of your code using memoization?\n",
    "8. How does the first implementation and the one with memoization compare?\n"
   ]
  }
 ],
 "metadata": {
  "kernelspec": {
   "display_name": "Python 3",
   "language": "python",
   "name": "python3"
  },
  "language_info": {
   "codemirror_mode": {
    "name": "ipython",
    "version": 3
   },
   "file_extension": ".py",
   "mimetype": "text/x-python",
   "name": "python",
   "nbconvert_exporter": "python",
   "pygments_lexer": "ipython3",
   "version": "3.8.8"
  }
 },
 "nbformat": 4,
 "nbformat_minor": 5
}
