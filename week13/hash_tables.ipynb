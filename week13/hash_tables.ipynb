{
 "cells": [
  {
   "cell_type": "code",
   "execution_count": 1,
   "id": "5acb4fe5",
   "metadata": {
    "slideshow": {
     "slide_type": "skip"
    }
   },
   "outputs": [],
   "source": [
    "import time\n",
    "import pandas as pd\n",
    "import numpy as np\n",
    "import matplotlib.pyplot as plt\n",
    "%matplotlib inline  "
   ]
  },
  {
   "cell_type": "markdown",
   "id": "a41bb501",
   "metadata": {
    "slideshow": {
     "slide_type": "slide"
    }
   },
   "source": [
    "# CMP 3002 \n",
    "## Hash Tables"
   ]
  },
  {
   "cell_type": "markdown",
   "id": "542f7898",
   "metadata": {
    "slideshow": {
     "slide_type": "slide"
    }
   },
   "source": [
    "## Hash Table\n",
    "\n",
    "- Data structure that organizes data using hash functions to support fast insertion and search\n",
    "\n",
    "- Two kinds of hash tables:\n",
    "    - hash set\n",
    "    - hash map\n",
    "\n",
    "- Hash set is an implementation to avoid storing repeated values\n",
    "- Hash map allows us to store key-value (k,v) pairs\n",
    "    - Can't have duplicate keys\n"
   ]
  },
  {
   "cell_type": "markdown",
   "id": "2dacec3d",
   "metadata": {
    "slideshow": {
     "slide_type": "subslide"
    }
   },
   "source": [
    "### Hash tables\n",
    "\n",
    "- Use a hash funciton to map keys to buckets\n",
    "- When we insert a new key, the hash function decides which bucket they key should be assigned \n",
    "- When we search for a key, the hash table will use the same hash function to find the bucket\n",
    "\n",
    "By hashing the indexing, we can do the mapping between the index and the location in memory where we can read the value quickly.\n"
   ]
  },
  {
   "cell_type": "markdown",
   "id": "b3c994d6",
   "metadata": {
    "slideshow": {
     "slide_type": "slide"
    }
   },
   "source": [
    "### Hash functions\n",
    "\n",
    "- Function that can be used to map data of any size to a fixed-size values\n",
    "- A hash function is usually a one-way function (it can't be inverted)\n",
    "- Used to index hash tables \n",
    "- Cryptographic applications\n",
    "\n"
   ]
  },
  {
   "cell_type": "markdown",
   "id": "eac7b9c9",
   "metadata": {
    "slideshow": {
     "slide_type": "subslide"
    }
   },
   "source": [
    "### Hash functions\n",
    "\n",
    "- The hash function is the most important component of a hash table\n",
    "- Example: $F(x) = x % 5$\n",
    "- We need to pick a function with a wide range to avoid collisions \n",
    "- The function should assign the key to the bucket in a uniform manner\n",
    "- Ideally a one-one mapping between the key and the bucket\n",
    "- Hash functions are usually not perfect and there is a tradeoff between the number of buckets and the capacity of a bucket\n"
   ]
  },
  {
   "cell_type": "markdown",
   "id": "1178b35d",
   "metadata": {
    "slideshow": {
     "slide_type": "subslide"
    }
   },
   "source": [
    "### Hash functions - collisions\n",
    "\n",
    "- Collisions are inevitable\n",
    "- We need an algorithm to solve the following questions:\n",
    "\n",
    "    - how do we organize values in the same bucket?\n",
    "    - what happens if the bucket has too many keys assigned?\n",
    "    - how do we search a target value in a bucket?"
   ]
  },
  {
   "cell_type": "markdown",
   "id": "7d1dacda",
   "metadata": {
    "slideshow": {
     "slide_type": "subslide"
    }
   },
   "source": [
    "## Complexity Analysis\n",
    "\n",
    "Assuming $N$ keys in total:\n",
    "\n",
    "- Space complexity is $O(N)$\n",
    "- Search $O(1)$, depends on the design of the table. In the worst case this can be $O(N)$\n"
   ]
  },
  {
   "cell_type": "markdown",
   "id": "a5cfcde2",
   "metadata": {
    "slideshow": {
     "slide_type": "slide"
    }
   },
   "source": [
    "### Exercise 1\n",
    "\n",
    "Design a HashSet without using any built-in hash table libraries.\n",
    "\n",
    "Implement HashSet class:\n",
    "\n",
    "- void add(key) Inserts the value key into the HashSet.\n",
    "- bool contains(key) Returns whether the value key exists in the HashSet or not.\n",
    "- void remove(key) Removes the value key in the HashSet. If key does not exist in the HashSet, do nothing.\n",
    " "
   ]
  },
  {
   "cell_type": "code",
   "execution_count": 4,
   "id": "b9b3f412",
   "metadata": {
    "slideshow": {
     "slide_type": "subslide"
    }
   },
   "outputs": [],
   "source": [
    "class Node:\n",
    "    def __init__(self, value, next_node=None):\n",
    "        self.value = value\n",
    "        self.next_node = next_node\n",
    "        \n",
    "class Bucket:\n",
    "    def __init__(self):\n",
    "        self.head = Node(0)\n",
    "\n",
    "    def insert(self, value):\n",
    "        if not self.exists(value):\n",
    "            node = Node(value, self.head.next)\n",
    "            if self.head.next_node:\n",
    "                node.next_node = self.head.next_node\n",
    "            self.head.next_node = node\n",
    "\n",
    "    def delete(self, value):\n",
    "        prev = self.head\n",
    "        curr = self.head.next_node\n",
    "        while curr:\n",
    "            if curr.value == value:\n",
    "                prev.next_node = curr.next_node\n",
    "                return\n",
    "            prev = curr\n",
    "            curr = curr.next_node\n",
    "\n",
    "    def exists(self, value):\n",
    "        curr = self.head.next_node\n",
    "        while curr:\n",
    "            if curr.value == value:\n",
    "                return True\n",
    "            curr = curr.next_node\n",
    "        return False"
   ]
  },
  {
   "cell_type": "code",
   "execution_count": 5,
   "id": "20e9552a",
   "metadata": {
    "slideshow": {
     "slide_type": "subslide"
    }
   },
   "outputs": [],
   "source": [
    "class HashSet(object):\n",
    "\n",
    "    def __init__(self):\n",
    "        \"\"\"\n",
    "        Initialize your data structure here.\n",
    "        \"\"\"\n",
    "        self.keyRange = 769\n",
    "        self.bucketArray = [Bucket() for i in range(self.keyRange)]\n",
    "\n",
    "    def _hash(self, key):\n",
    "        return key % self.keyRange\n",
    "\n",
    "    def add(self, key):\n",
    "        bucketIndex = self._hash(key)\n",
    "        self.bucketArray[bucketIndex].insert(key)\n",
    "\n",
    "    def remove(self, key):\n",
    "        bucketIndex = self._hash(key)\n",
    "        self.bucketArray[bucketIndex].delete(key)\n",
    "\n",
    "    def contains(self, key):\n",
    "        bucketIndex = self._hash(key)\n",
    "        return self.bucketArray[bucketIndex].exists(key)\n",
    "    \n",
    "# We want to store numbers from 0 to 1,000,000\n",
    "# 1. store them in an array\n",
    "# 2. store them in a hashset with keyRange=10,000"
   ]
  },
  {
   "cell_type": "markdown",
   "id": "fdf1527c",
   "metadata": {
    "slideshow": {
     "slide_type": "slide"
    }
   },
   "source": [
    "### Exercise 2\n",
    "\n",
    "Design a HashMap without using any built-in hash table libraries.\n",
    "\n",
    "Implement the HashMap class:\n",
    "\n",
    "- HashMap() initializes the object with an empty map.\n",
    "- void put(int key, int value) inserts a (key, value) pair into the HashMap. If the key already exists in the map, update the corresponding value.\n",
    "- int get(int key) returns the value to which the specified key is mapped, or -1 if this map contains no mapping for the key.\n",
    "- void remove(key) removes the key and its corresponding value if the map contains the mapping for the key."
   ]
  },
  {
   "cell_type": "code",
   "execution_count": 3,
   "id": "555d0314",
   "metadata": {
    "slideshow": {
     "slide_type": "subslide"
    }
   },
   "outputs": [],
   "source": [
    "class Bucket:\n",
    "    def __init__(self):\n",
    "        self.bucket = []\n",
    "\n",
    "    def get(self, key):\n",
    "        for (k, v) in self.bucket:\n",
    "            if k == key:\n",
    "                return v\n",
    "        return -1\n",
    "\n",
    "    def update(self, key, value):\n",
    "        found = False\n",
    "        for i in range(len(self.bucket)):\n",
    "            kv = self.bucket[i]\n",
    "            if key == kv[0]:\n",
    "                self.bucket[i] = (key, value)\n",
    "                found = True\n",
    "                break\n",
    "\n",
    "        if not found:\n",
    "            self.bucket.append((key, value))\n",
    "\n",
    "    def remove(self, key):\n",
    "        for i in range(len(self.bucket)):\n",
    "            kv = self.bucket[i]\n",
    "            if key == kv[0]:\n",
    "                del self.bucket[i]"
   ]
  },
  {
   "cell_type": "code",
   "execution_count": null,
   "id": "ea96c7f1",
   "metadata": {
    "slideshow": {
     "slide_type": "subslide"
    }
   },
   "outputs": [],
   "source": [
    "class HashMap(object):\n",
    "\n",
    "    def __init__(self):\n",
    "        \"\"\"\n",
    "        Initialize your data structure here.\n",
    "        \"\"\"\n",
    "        self.n = 2000\n",
    "        self.hash_table = [Bucket() for i in range(self.n)]\n",
    "\n",
    "\n",
    "    def put(self, key, value):\n",
    "        hash_key = key % self.n\n",
    "        self.hash_table[hash_key].update(key, value)\n",
    "\n",
    "\n",
    "    def get(self, key):\n",
    "        hash_key = key % self.n\n",
    "        return self.hash_table[hash_key].get(key)\n",
    "\n",
    "\n",
    "    def remove(self, key):\n",
    "        hash_key = key % self.n\n",
    "        self.hash_table[hash_key].remove(key)"
   ]
  }
 ],
 "metadata": {
  "celltoolbar": "Slideshow",
  "kernelspec": {
   "display_name": "Python 3",
   "language": "python",
   "name": "python3"
  },
  "language_info": {
   "codemirror_mode": {
    "name": "ipython",
    "version": 3
   },
   "file_extension": ".py",
   "mimetype": "text/x-python",
   "name": "python",
   "nbconvert_exporter": "python",
   "pygments_lexer": "ipython3",
   "version": "3.8.8"
  }
 },
 "nbformat": 4,
 "nbformat_minor": 5
}
