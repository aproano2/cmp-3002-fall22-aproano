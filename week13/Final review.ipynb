{
 "cells": [
  {
   "cell_type": "markdown",
   "id": "170b0232",
   "metadata": {
    "slideshow": {
     "slide_type": "slide"
    }
   },
   "source": [
    "## Review for final exam"
   ]
  },
  {
   "cell_type": "markdown",
   "id": "6d116a91",
   "metadata": {
    "slideshow": {
     "slide_type": "slide"
    }
   },
   "source": [
    "### Project presentations:\n",
    "\n",
    "- Group 3: calendario\n",
    "- Group 4: unit testing\n",
    "- Group 2: algoritmos de búsqueda\n",
    "- Group 1: reproductor de canciones"
   ]
  },
  {
   "cell_type": "code",
   "execution_count": 1,
   "id": "d86cb5ef",
   "metadata": {
    "slideshow": {
     "slide_type": "subslide"
    }
   },
   "outputs": [],
   "source": [
    "import random\n",
    "\n",
    "l = ['grupo 1', 'grupo 2', 'grupo 3', 'grupo 4']\n",
    "random.shuffle(l)"
   ]
  },
  {
   "cell_type": "code",
   "execution_count": 2,
   "id": "76b9df8c",
   "metadata": {
    "slideshow": {
     "slide_type": "subslide"
    }
   },
   "outputs": [
    {
     "name": "stdout",
     "output_type": "stream",
     "text": [
      "['grupo 3', 'grupo 4', 'grupo 2', 'grupo 1']\n"
     ]
    }
   ],
   "source": [
    "print(l)"
   ]
  },
  {
   "cell_type": "markdown",
   "id": "737f0cee",
   "metadata": {
    "slideshow": {
     "slide_type": "slide"
    }
   },
   "source": [
    "### Traversals\n",
    "\n",
    "![](../images/binary_tree.png)\n",
    "\n",
    "\n",
    "- pre-order\n",
    "\n",
    "> [A, B, C, D, E, F, G, H, I]\n",
    "\n",
    "- in-order\n",
    "\n",
    "> [C, B, D, A, F, E, H, G, I]\n",
    "\n",
    "- post-order\n",
    "\n",
    "> [C, D, B, F, H, I, G, E, A]"
   ]
  },
  {
   "cell_type": "markdown",
   "id": "a80de242",
   "metadata": {
    "slideshow": {
     "slide_type": "slide"
    }
   },
   "source": [
    "### Given the pre-order and in-order traversals of a tree, reconstruct the tree. "
   ]
  },
  {
   "cell_type": "markdown",
   "id": "251959b0",
   "metadata": {
    "slideshow": {
     "slide_type": "slide"
    }
   },
   "source": [
    "### What are the differences between lineal search and binary search in a BST? In which case do we use them?\n"
   ]
  },
  {
   "cell_type": "markdown",
   "id": "f10f9047",
   "metadata": {
    "slideshow": {
     "slide_type": "slide"
    }
   },
   "source": [
    "### Given a BST, generate a sorted array with the elements from the BST"
   ]
  },
  {
   "cell_type": "markdown",
   "id": "a1396896",
   "metadata": {
    "slideshow": {
     "slide_type": "slide"
    }
   },
   "source": [
    "### Detect duplicates\n",
    "\n",
    "Given an array with numbers, determine if this array contains any element that occurs at least twice. Return `true` if that's the case\n",
    "\n",
    "Example 1:\n",
    "```\n",
    "input = [2,1,6,7,9]\n",
    "output false\n",
    "```\n",
    "```\n",
    "set = {}\n",
    "for x in input:\n",
    "    if x in set:\n",
    "        return True\n",
    "    else:\n",
    "        set.append(x)\n",
    "return False\n",
    "```\n",
    "Example 2:\n",
    "```\n",
    "input = [1,2,4,5,6,2]\n",
    "output true\n",
    "```"
   ]
  },
  {
   "cell_type": "markdown",
   "id": "5ecf8611",
   "metadata": {
    "slideshow": {
     "slide_type": "slide"
    }
   },
   "source": [
    "### Count the number that each character in a string occurs\n",
    "\n",
    "Example 1:\n",
    "\n",
    "    input = \"aabbbccccddddd\"\n",
    "    output: a:2, b:3, c:4, d:5"
   ]
  }
 ],
 "metadata": {
  "celltoolbar": "Slideshow",
  "kernelspec": {
   "display_name": "Python 3",
   "language": "python",
   "name": "python3"
  },
  "language_info": {
   "codemirror_mode": {
    "name": "ipython",
    "version": 3
   },
   "file_extension": ".py",
   "mimetype": "text/x-python",
   "name": "python",
   "nbconvert_exporter": "python",
   "pygments_lexer": "ipython3",
   "version": "3.8.8"
  }
 },
 "nbformat": 4,
 "nbformat_minor": 5
}
