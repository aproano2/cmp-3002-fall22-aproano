{
 "cells": [
  {
   "cell_type": "code",
   "execution_count": 1,
   "id": "5acb4fe5",
   "metadata": {
    "slideshow": {
     "slide_type": "skip"
    }
   },
   "outputs": [],
   "source": [
    "import time\n",
    "import pandas as pd\n",
    "import numpy as np\n",
    "import matplotlib.pyplot as plt\n",
    "%matplotlib inline  "
   ]
  },
  {
   "cell_type": "markdown",
   "id": "a41bb501",
   "metadata": {
    "slideshow": {
     "slide_type": "slide"
    }
   },
   "source": [
    "# CMP 3002 \n",
    "## Trees"
   ]
  },
  {
   "cell_type": "markdown",
   "id": "e8528481",
   "metadata": {
    "slideshow": {
     "slide_type": "slide"
    }
   },
   "source": [
    "### Housekeeping\n",
    "\n",
    "- Project topics\n",
    "- Homework 3"
   ]
  },
  {
   "cell_type": "markdown",
   "id": "4c4564bf",
   "metadata": {
    "slideshow": {
     "slide_type": "skip"
    }
   },
   "source": [
    "- Name of the function\n",
    "- Input expected\n",
    "- Output expected\n",
    "- Function stored in a file \".py\""
   ]
  },
  {
   "cell_type": "markdown",
   "id": "2910416f",
   "metadata": {
    "slideshow": {
     "slide_type": "slide"
    }
   },
   "source": [
    "## Trees \n",
    "\n",
    "- A tree is an abstract model of a hierarchical structure\n",
    "- Consists of nodes with a parent-child relation\n",
    "- Applications:\n",
    "    - Organization charts\n",
    "    - File systems\n",
    "    - Programming environments\n",
    "    \n",
    "![](../images/execution_tree.png)"
   ]
  },
  {
   "cell_type": "markdown",
   "id": "9d343db2",
   "metadata": {
    "slideshow": {
     "slide_type": "subslide"
    }
   },
   "source": [
    "## Terminology\n",
    "\n",
    "- **Root:** node without parent (4)\n",
    "- **Internal node:** node with at least one child (4, 3, 2)\n",
    "- **External node (leaf):** node without children (0, 1)\n",
    "- **Ancestors of a node:** parent, grandparent, grand-grandparent, etc.\n",
    "- **Depth of a node:** number of ancestors\n",
    "- **Height of a tree:** maximum depth of any node (3)\n",
    "- **Descendant of a node:** child, grandchild, grand-grandchild, etc.\n",
    "- **Subtree:** tree consisting of a node and its descendants\n",
    "\n",
    "![](../images/execution_tree.png)"
   ]
  },
  {
   "cell_type": "markdown",
   "id": "4e56b4fa",
   "metadata": {
    "slideshow": {
     "slide_type": "slide"
    }
   },
   "source": [
    "## Binary Tree\n",
    "\n",
    "- One of the most typical tree structures\n",
    "- Each node has at most two children\n",
    "\n",
    "![](./binary_tree.png)"
   ]
  },
  {
   "cell_type": "code",
   "execution_count": 14,
   "id": "a1eb4dc0",
   "metadata": {
    "slideshow": {
     "slide_type": "subslide"
    }
   },
   "outputs": [],
   "source": [
    "class TreeNode:\n",
    "    def __init__(self, val=0, left=None, right=None):\n",
    "        self.val = val\n",
    "        self.left = left\n",
    "        self.right = right"
   ]
  },
  {
   "cell_type": "markdown",
   "id": "10644076",
   "metadata": {
    "slideshow": {
     "slide_type": "slide"
    }
   },
   "source": [
    "## Tree Traversal\n",
    "\n",
    "- Pre-order\n",
    "- In-order\n",
    "- Post-order\n"
   ]
  },
  {
   "cell_type": "markdown",
   "id": "94d41844",
   "metadata": {
    "slideshow": {
     "slide_type": "subslide"
    }
   },
   "source": [
    "### Pre-order Traversal\n",
    "\n",
    "- Visit the root first\n",
    "- Then traverse the left subtree\n",
    "- Finally, traverse the right subtree\n",
    "\n",
    "![](../images/binary_tree.png)\n",
    "\n",
    "Result:\n",
    "\n",
    "[A, B, C, D, E, F, G, H, I]"
   ]
  },
  {
   "cell_type": "code",
   "execution_count": 2,
   "id": "0827a941",
   "metadata": {
    "slideshow": {
     "slide_type": "skip"
    }
   },
   "outputs": [],
   "source": [
    "c = TreeNode('c')\n",
    "d = TreeNode('d')\n",
    "b = TreeNode('b', left=c, right=d)\n",
    "\n",
    "h = TreeNode('h')\n",
    "i = TreeNode('i')\n",
    "g = TreeNode('g', left=h, right=i)\n",
    "\n",
    "f = TreeNode('f')\n",
    "e = TreeNode('e', left=f, right=g)\n",
    "\n",
    "a = TreeNode('a', left=b, right=e)"
   ]
  },
  {
   "cell_type": "code",
   "execution_count": 3,
   "id": "50f8ce0f",
   "metadata": {
    "slideshow": {
     "slide_type": "subslide"
    }
   },
   "outputs": [],
   "source": [
    "# Implementation using stacks\n",
    "def preorderTraversal(root):\n",
    "\n",
    "    if root is None:\n",
    "        return []\n",
    "    stack = [root]\n",
    "    out = []\n",
    "\n",
    "    while stack:\n",
    "        node = stack.pop()\n",
    "        if node:\n",
    "            out.append(node.val)\n",
    "            for child in [node.right, node.left]:\n",
    "                if child:\n",
    "                    stack.append(child)\n",
    "    return out"
   ]
  },
  {
   "cell_type": "code",
   "execution_count": 4,
   "id": "e62237d9",
   "metadata": {
    "slideshow": {
     "slide_type": "subslide"
    }
   },
   "outputs": [
    {
     "data": {
      "text/plain": [
       "['a', 'b', 'c', 'd', 'e', 'f', 'g', 'h', 'i']"
      ]
     },
     "execution_count": 4,
     "metadata": {},
     "output_type": "execute_result"
    }
   ],
   "source": [
    "preorderTraversal(a)"
   ]
  },
  {
   "cell_type": "code",
   "execution_count": 5,
   "id": "959912ef",
   "metadata": {
    "slideshow": {
     "slide_type": "subslide"
    }
   },
   "outputs": [],
   "source": [
    "# Implementation using recursion\n",
    "def preorderTraversalrec(root):\n",
    "\n",
    "    if root is None:\n",
    "        return []\n",
    "    \n",
    "    out = [root.val]\n",
    "    out += preorderTraversalrec(root.left)\n",
    "    out += preorderTraversalrec(root.right)\n",
    "\n",
    "    return out"
   ]
  },
  {
   "cell_type": "code",
   "execution_count": 6,
   "id": "b2784bd3",
   "metadata": {
    "slideshow": {
     "slide_type": "subslide"
    }
   },
   "outputs": [
    {
     "data": {
      "text/plain": [
       "['a', 'b', 'c', 'd', 'e', 'f', 'g', 'h', 'i']"
      ]
     },
     "execution_count": 6,
     "metadata": {},
     "output_type": "execute_result"
    }
   ],
   "source": [
    "preorderTraversalrec(a)"
   ]
  },
  {
   "cell_type": "markdown",
   "id": "076fd693",
   "metadata": {
    "slideshow": {
     "slide_type": "fragment"
    }
   },
   "source": [
    "### In-order Traversal\n",
    "\n",
    "- Traverse the left subtree first\n",
    "- Then visit the root\n",
    "- Finally, traverse the right subtree\n",
    "\n",
    "![](../images/binary_tree.png)\n",
    "\n",
    "Result:\n",
    "\n",
    "[C, B, D, A, F, E, H, G, I]\n",
    "\n",
    "\n",
    "\n"
   ]
  },
  {
   "cell_type": "code",
   "execution_count": 7,
   "id": "0e45d396",
   "metadata": {
    "slideshow": {
     "slide_type": "subslide"
    }
   },
   "outputs": [],
   "source": [
    "# Implementation using recursion\n",
    "def inorderTraversalrec(root):\n",
    "\n",
    "    if root is None:\n",
    "        return []\n",
    "    \n",
    "    out = inorderTraversalrec(root.left)\n",
    "    out += [root.val]\n",
    "    out += inorderTraversalrec(root.right)\n",
    "\n",
    "    return out"
   ]
  },
  {
   "cell_type": "code",
   "execution_count": 8,
   "id": "6b24e306",
   "metadata": {
    "slideshow": {
     "slide_type": "subslide"
    }
   },
   "outputs": [
    {
     "data": {
      "text/plain": [
       "['c', 'b', 'd', 'a', 'f', 'e', 'h', 'g', 'i']"
      ]
     },
     "execution_count": 8,
     "metadata": {},
     "output_type": "execute_result"
    }
   ],
   "source": [
    "inorderTraversalrec(a)"
   ]
  },
  {
   "cell_type": "code",
   "execution_count": 9,
   "id": "3de9913e",
   "metadata": {
    "slideshow": {
     "slide_type": "subslide"
    }
   },
   "outputs": [],
   "source": [
    "# Implementation using stacks\n",
    "def inorderTraversal(root):\n",
    "\n",
    "    if root is None:\n",
    "        return []\n",
    "    \n",
    "    node = root\n",
    "    stack = []\n",
    "    out = []\n",
    "\n",
    "    while node or stack:\n",
    "        while node:\n",
    "            stack.append(node)\n",
    "            node = node.left            \n",
    "        node = stack.pop()\n",
    "        out.append(node.val)\n",
    "        node = node.right          \n",
    "    return out"
   ]
  },
  {
   "cell_type": "code",
   "execution_count": 10,
   "id": "20e511fc",
   "metadata": {
    "slideshow": {
     "slide_type": "subslide"
    }
   },
   "outputs": [
    {
     "data": {
      "text/plain": [
       "['c', 'b', 'd', 'a', 'f', 'e', 'h', 'g', 'i']"
      ]
     },
     "execution_count": 10,
     "metadata": {},
     "output_type": "execute_result"
    }
   ],
   "source": [
    "inorderTraversal(a)"
   ]
  },
  {
   "cell_type": "markdown",
   "id": "a5144831",
   "metadata": {
    "slideshow": {
     "slide_type": "subslide"
    }
   },
   "source": [
    "### Post-order Traversal\n",
    "\n",
    "- Traverse the left subtree first\n",
    "- Then traverse the right subtree\n",
    "- Finally, visit the root\n",
    "\n",
    "![](../images/binary_tree.png)\n",
    "\n",
    "Result:\n",
    "\n",
    "[C, D, B, F, H, I, G, E, A]\n",
    "\n",
    "\n",
    "\n"
   ]
  },
  {
   "cell_type": "code",
   "execution_count": 11,
   "id": "2b6e2343",
   "metadata": {
    "slideshow": {
     "slide_type": "subslide"
    }
   },
   "outputs": [],
   "source": [
    "# Implementation using recursion\n",
    "def postorderTraversalrec(root):\n",
    "\n",
    "    if root is None:\n",
    "        return []\n",
    "    \n",
    "    out = postorderTraversalrec(root.left)\n",
    "    out += postorderTraversalrec(root.right)\n",
    "    out += [root.val]\n",
    "\n",
    "    return out"
   ]
  },
  {
   "cell_type": "code",
   "execution_count": 12,
   "id": "4b84759a",
   "metadata": {
    "slideshow": {
     "slide_type": "subslide"
    }
   },
   "outputs": [
    {
     "data": {
      "text/plain": [
       "['c', 'd', 'b', 'f', 'h', 'i', 'g', 'e', 'a']"
      ]
     },
     "execution_count": 12,
     "metadata": {},
     "output_type": "execute_result"
    }
   ],
   "source": [
    "postorderTraversalrec(a)"
   ]
  },
  {
   "cell_type": "code",
   "execution_count": 13,
   "id": "08fa7d6c",
   "metadata": {
    "slideshow": {
     "slide_type": "subslide"
    }
   },
   "outputs": [],
   "source": [
    "# Implementation using stacks\n",
    "def postorderTraversal(root):\n",
    "\n",
    "    if root is None:\n",
    "        return []\n",
    "\n",
    "    stack = []\n",
    "    node = root \n",
    "    out = []\n",
    "\n",
    "    while True:            \n",
    "        while node:\n",
    "            if node.right:\n",
    "                stack.append(node.right)\n",
    "            stack.append(node)\n",
    "            node = node.left\n",
    "\n",
    "        node = stack.pop()\n",
    "\n",
    "        if node.right and stack and node.right == stack[-1]:\n",
    "            r = stack.pop()\n",
    "            stack.append(node)\n",
    "            node = r\n",
    "        else:\n",
    "            out.append(node.val)\n",
    "            node = None\n",
    "\n",
    "        if not stack:\n",
    "            break\n",
    "    return out"
   ]
  },
  {
   "cell_type": "code",
   "execution_count": 25,
   "id": "53059f29",
   "metadata": {
    "slideshow": {
     "slide_type": "subslide"
    }
   },
   "outputs": [
    {
     "data": {
      "text/plain": [
       "['c', 'd', 'b', 'f', 'h', 'i', 'g', 'e', 'a']"
      ]
     },
     "execution_count": 25,
     "metadata": {},
     "output_type": "execute_result"
    }
   ],
   "source": [
    "postorderTraversal(a)"
   ]
  }
 ],
 "metadata": {
  "celltoolbar": "Slideshow",
  "kernelspec": {
   "display_name": "Python 3",
   "language": "python",
   "name": "python3"
  },
  "language_info": {
   "codemirror_mode": {
    "name": "ipython",
    "version": 3
   },
   "file_extension": ".py",
   "mimetype": "text/x-python",
   "name": "python",
   "nbconvert_exporter": "python",
   "pygments_lexer": "ipython3",
   "version": "3.8.8"
  }
 },
 "nbformat": 4,
 "nbformat_minor": 5
}
