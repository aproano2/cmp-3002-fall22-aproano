{
 "cells": [
  {
   "cell_type": "code",
   "execution_count": 1,
   "id": "5acb4fe5",
   "metadata": {
    "slideshow": {
     "slide_type": "skip"
    }
   },
   "outputs": [],
   "source": [
    "import time\n",
    "import pandas as pd\n",
    "import numpy as np\n",
    "import matplotlib.pyplot as plt\n",
    "%matplotlib inline  "
   ]
  },
  {
   "cell_type": "markdown",
   "id": "a41bb501",
   "metadata": {
    "slideshow": {
     "slide_type": "slide"
    }
   },
   "source": [
    "# CMP 3002 \n",
    "## Binary Search Trees (BST)"
   ]
  },
  {
   "cell_type": "markdown",
   "id": "8957df18",
   "metadata": {
    "slideshow": {
     "slide_type": "subslide"
    }
   },
   "source": [
    "## Binary Search Trees (BST)\n",
    "\n",
    "![](../images/binary_search_tree.drawio.png)\n",
    "\n",
    "- Special form of a binary tree. \n",
    "- The value of each node must be greater than (or equal to) any values in the left subtree\n",
    "- The value of each node must be less than (or equal to) any values in the right subtree\n"
   ]
  },
  {
   "cell_type": "markdown",
   "id": "fe612f5a",
   "metadata": {
    "slideshow": {
     "slide_type": "subslide"
    }
   },
   "source": [
    "### Validation of a BST\n",
    "\n",
    "How do we use the properties of a BST to validate that a binary tree is a BST or not?\n",
    "\n",
    "- Recursion\n",
    "- Note that inorder traversal in BST would result in ascending order\n"
   ]
  },
  {
   "cell_type": "markdown",
   "id": "a6d7b289",
   "metadata": {
    "slideshow": {
     "slide_type": "subslide"
    }
   },
   "source": [
    "### Exercise\n",
    "\n",
    "1. Write a program that validates that a tree is a BST\n",
    "\n",
    "```\n",
    "class Node:\n",
    "    def __init__(self, val=0, left=None, right=None):\n",
    "        self.val = x\n",
    "        self.left = None\n",
    "        self.right = None\n",
    "        \n",
    "def valid_BST(node, low=-math.inf, high=math.inf):\n",
    "    \n",
    "    if (not node.left) and (not node.right):\n",
    "        return True\n",
    "        \n",
    "    if node.val <= low or node.val >= high:\n",
    "        return False\n",
    "        \n",
    "    return valid_BST(root.left, low, root.val) and valid_BST(root.right, root.val, high)\n",
    "```"
   ]
  },
  {
   "cell_type": "markdown",
   "id": "1fb6d7e0",
   "metadata": {
    "slideshow": {
     "slide_type": "subslide"
    }
   },
   "source": [
    "### Exercise\n",
    "\n",
    "1. Write a program that validates that a tree is a BST\n",
    "\n",
    "```\n",
    "def valid_BST(root, low=-math.inf, high=math.inf):\n",
    "\n",
    "    if not root:\n",
    "        return True\n",
    "    if root.val <= low or root.val >= high:\n",
    "        return False\n",
    "\n",
    "    return (valid_BST(root.right, root.val, high) and\n",
    "           valid_BST(root.left, low, root.val))\n",
    "\n",
    "```"
   ]
  },
  {
   "cell_type": "markdown",
   "id": "887bcdb8",
   "metadata": {
    "slideshow": {
     "slide_type": "slide"
    }
   },
   "source": [
    "## Search in a BST\n",
    "\n",
    "Binary search tress support the following operations:\n",
    "- search \n",
    "- insertion \n",
    "- deletion\n",
    "\n",
    "Following the main property of BST, for each node we visit while search:\n",
    "\n",
    "- return the node is the target is equal to the value of the node\n",
    "- continue searching in the left subtree if the target value is less than the value of the node\n",
    "- continue searching in the more subtree if the target value is more than the value of the node\n",
    "- return false if there are no children"
   ]
  },
  {
   "cell_type": "markdown",
   "id": "54426be1",
   "metadata": {
    "slideshow": {
     "slide_type": "subslide"
    }
   },
   "source": [
    "## Search in a BST - Example\n",
    "\n",
    "![](../images/binary_search_tree.drawio.png)\n",
    "\n",
    "Input:\n",
    "- target = 7\n",
    "\n",
    "Operations:\n",
    "\n",
    "1. Visit the root.\n",
    "    - value is 4 (7 > 4)\n",
    "    - continue to the right subtree\n",
    "    \n",
    "2. Visit node 6\n",
    "    - value is 6 (7 > 6)\n",
    "    - continue to the right subtree\n",
    "3. Visit node 8\n",
    "    - value is 8 (7 < 8)\n",
    "    - continue to the left subtree\n",
    "4. Visit node 7\n",
    "    - value is 7 (7 == 7)\n",
    "    - return True"
   ]
  },
  {
   "cell_type": "markdown",
   "id": "d90f856c",
   "metadata": {
    "slideshow": {
     "slide_type": "subslide"
    }
   },
   "source": [
    "## Search in a BST - Complexity\n",
    "\n",
    "- Assuming the tree is well balanced - that is, the left subtree has the same number of nodes as the right subtree\n",
    "- The height of the tree is $log(N),$ for $N$ being the total number of nodes\n",
    "- Complexity is the height of the tree since that's the total number of nodes we traverse to find a node in the worse case.\n",
    "- Complexity is $O(log(N))$"
   ]
  },
  {
   "cell_type": "code",
   "execution_count": 1,
   "id": "e9be7609",
   "metadata": {
    "slideshow": {
     "slide_type": "subslide"
    }
   },
   "outputs": [],
   "source": [
    "class Node:\n",
    "    def __init__(self, val=0, left=None, right=None):\n",
    "        self.val = x\n",
    "        self.left = None\n",
    "        self.right = None\n",
    "\n",
    "def search_BST(root, val):\n",
    "    if root is None or val == root.val:\n",
    "        node = root\n",
    "    elif val < root.val:\n",
    "        node = search_BST(root.left, val)\n",
    "    else:\n",
    "        node = search_BST(root.right, val)\n",
    "    return node   "
   ]
  },
  {
   "cell_type": "markdown",
   "id": "0ec1880f",
   "metadata": {
    "slideshow": {
     "slide_type": "subslide"
    }
   },
   "source": [
    "### How do we implement iteratively?"
   ]
  },
  {
   "cell_type": "code",
   "execution_count": 2,
   "id": "31cec198",
   "metadata": {
    "slideshow": {
     "slide_type": "subslide"
    }
   },
   "outputs": [],
   "source": [
    "def search_BST(root, val):\n",
    "    node = root\n",
    "    while node and node.val != target:\n",
    "        if target < node.val:\n",
    "            node = node.left\n",
    "        else:\n",
    "            node = node.right\n",
    "    return node"
   ]
  },
  {
   "cell_type": "markdown",
   "id": "b2295006",
   "metadata": {
    "slideshow": {
     "slide_type": "slide"
    }
   },
   "source": [
    "## Insertion in a BST\n",
    "\n",
    "- The goal is to minimize the number of changes.\n",
    "- To do so, we find a leaf position for the target node\n",
    "- Insert it as a leaf\n",
    "\n",
    "**Note:** Insertion starts with a search\n",
    "\n",
    "\n",
    "1. Search the tree until we reach an external node\n",
    "2. Add the node as its left or right child (depending on whether is lower or greater than the leaf's value)\n",
    "\n",
    "**Note:** This way we maintain the property of the BST\n"
   ]
  },
  {
   "cell_type": "markdown",
   "id": "afa994a8",
   "metadata": {
    "slideshow": {
     "slide_type": "subslide"
    }
   },
   "source": [
    "### Insertion in a BST - Example\n",
    "\n",
    "![](../images/binary_search_tree.drawio.png)\n",
    "\n",
    "**Target: 3.5**"
   ]
  },
  {
   "cell_type": "markdown",
   "id": "a9d6937c",
   "metadata": {
    "slideshow": {
     "slide_type": "subslide"
    }
   },
   "source": [
    "### Insertion in a BST - Example\n",
    "\n",
    "![](../images/bst_insert.png)\n",
    "\n",
    "**Target: 3.5**"
   ]
  },
  {
   "cell_type": "code",
   "execution_count": 4,
   "id": "94f03837",
   "metadata": {
    "slideshow": {
     "slide_type": "subslide"
    }
   },
   "outputs": [],
   "source": [
    "def insert_BST(root, val):\n",
    "    if not root:\n",
    "        return Node(val)\n",
    "        \n",
    "    if val > root.val:            \n",
    "        root.right = insert_BST(root.right, val)\n",
    "    else:    \n",
    "        root.left = insert_BST(root.left, val)\n",
    "    return root"
   ]
  }
 ],
 "metadata": {
  "celltoolbar": "Slideshow",
  "kernelspec": {
   "display_name": "Python 3",
   "language": "python",
   "name": "python3"
  },
  "language_info": {
   "codemirror_mode": {
    "name": "ipython",
    "version": 3
   },
   "file_extension": ".py",
   "mimetype": "text/x-python",
   "name": "python",
   "nbconvert_exporter": "python",
   "pygments_lexer": "ipython3",
   "version": "3.8.8"
  }
 },
 "nbformat": 4,
 "nbformat_minor": 5
}
